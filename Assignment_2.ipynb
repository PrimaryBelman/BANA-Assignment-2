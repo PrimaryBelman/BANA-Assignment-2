{
  "cells": [
    {
      "cell_type": "markdown",
      "id": "8e174832",
      "metadata": {
        "id": "8e174832"
      },
      "source": [
        "# Introduction:\n",
        "- This is a project that makes use of publicly a ... \n"
      ]
    },
    {
      "cell_type": "code",
      "execution_count": null,
      "id": "3af6934e",
      "metadata": {
        "id": "3af6934e"
      },
      "outputs": [],
      "source": [
        "# Dependency for calendar holidays for canada.\n",
        "pip install holidays"
      ]
    },
    {
      "cell_type": "code",
      "execution_count": null,
      "id": "b136e8f3",
      "metadata": {
        "id": "b136e8f3",
        "outputId": "afb93fb6-a718-47dd-ea52-d677dd3c53c1"
      },
      "outputs": [
        {
          "data": {
            "text/html": [
              "<div>\n",
              "<style scoped>\n",
              "    .dataframe tbody tr th:only-of-type {\n",
              "        vertical-align: middle;\n",
              "    }\n",
              "\n",
              "    .dataframe tbody tr th {\n",
              "        vertical-align: top;\n",
              "    }\n",
              "\n",
              "    .dataframe thead th {\n",
              "        text-align: right;\n",
              "    }\n",
              "</style>\n",
              "<table border=\"1\" class=\"dataframe\">\n",
              "  <thead>\n",
              "    <tr style=\"text-align: right;\">\n",
              "      <th></th>\n",
              "      <th>CBSA Office</th>\n",
              "      <th>Location</th>\n",
              "      <th>Updated</th>\n",
              "      <th>Commercial Flow</th>\n",
              "      <th>Travellers Flow</th>\n",
              "    </tr>\n",
              "  </thead>\n",
              "  <tbody>\n",
              "    <tr>\n",
              "      <th>0</th>\n",
              "      <td>St. Stephen</td>\n",
              "      <td>St. Stephen, NB</td>\n",
              "      <td>2014-04-04 12:58 ADT</td>\n",
              "      <td>Not Applicable</td>\n",
              "      <td>No Delay</td>\n",
              "    </tr>\n",
              "    <tr>\n",
              "      <th>1</th>\n",
              "      <td>St. Stephen</td>\n",
              "      <td>St. Stephen, NB</td>\n",
              "      <td>2014-04-04 11:55 ADT</td>\n",
              "      <td>Not Applicable</td>\n",
              "      <td>No Delay</td>\n",
              "    </tr>\n",
              "    <tr>\n",
              "      <th>2</th>\n",
              "      <td>St. Stephen</td>\n",
              "      <td>St. Stephen, NB</td>\n",
              "      <td>2014-04-04 10:46 ADT</td>\n",
              "      <td>Not Applicable</td>\n",
              "      <td>No Delay</td>\n",
              "    </tr>\n",
              "    <tr>\n",
              "      <th>3</th>\n",
              "      <td>St. Stephen</td>\n",
              "      <td>St. Stephen, NB</td>\n",
              "      <td>2014-04-04 10:14 ADT</td>\n",
              "      <td>Not Applicable</td>\n",
              "      <td>No Delay</td>\n",
              "    </tr>\n",
              "    <tr>\n",
              "      <th>4</th>\n",
              "      <td>St. Stephen</td>\n",
              "      <td>St. Stephen, NB</td>\n",
              "      <td>2014-04-04 09:02 ADT</td>\n",
              "      <td>Not Applicable</td>\n",
              "      <td>No Delay</td>\n",
              "    </tr>\n",
              "  </tbody>\n",
              "</table>\n",
              "</div>"
            ],
            "text/plain": [
              "   CBSA Office         Location               Updated Commercial Flow  \\\n",
              "0  St. Stephen  St. Stephen, NB  2014-04-04 12:58 ADT  Not Applicable   \n",
              "1  St. Stephen  St. Stephen, NB  2014-04-04 11:55 ADT  Not Applicable   \n",
              "2  St. Stephen  St. Stephen, NB  2014-04-04 10:46 ADT  Not Applicable   \n",
              "3  St. Stephen  St. Stephen, NB  2014-04-04 10:14 ADT  Not Applicable   \n",
              "4  St. Stephen  St. Stephen, NB  2014-04-04 09:02 ADT  Not Applicable   \n",
              "\n",
              "  Travellers Flow  \n",
              "0        No Delay  \n",
              "1        No Delay  \n",
              "2        No Delay  \n",
              "3        No Delay  \n",
              "4        No Delay  "
            ]
          },
          "execution_count": 128,
          "metadata": {},
          "output_type": "execute_result"
        }
      ],
      "source": [
        "# Import relevant libs\n",
        "import numpy as np\n",
        "import pandas as pd\n",
        "import dateutil\n",
        "import re\n",
        "\n",
        "# Just change the following two lines to match your environment path!\n",
        "dir = '/Users/fei/Library/CloudStorage/OneDrive-Personal/Documents/RIT/BANA 680 Data Management for Business Analytics/Assignment 2/'\n",
        "bwt_data = 'bwt-taf-2010-2014-eng.csv'\n",
        "\n",
        "# Data Frames creation\n",
        "df = pd.read_csv(dir+bwt_data)\n",
        "df.head()"
      ]
    },
    {
      "cell_type": "markdown",
      "id": "854d84cd",
      "metadata": {
        "id": "854d84cd"
      },
      "source": [
        "# Data Cleanup of aggregated data in dataset"
      ]
    },
    {
      "cell_type": "code",
      "execution_count": null,
      "id": "de0e5337",
      "metadata": {
        "id": "de0e5337",
        "outputId": "c662f798-846e-4740-fd64-3df8783ad310"
      },
      "outputs": [
        {
          "name": "stdout",
          "output_type": "stream",
          "text": [
            "(44234, 5)\n"
          ]
        },
        {
          "data": {
            "text/html": [
              "<div>\n",
              "<style scoped>\n",
              "    .dataframe tbody tr th:only-of-type {\n",
              "        vertical-align: middle;\n",
              "    }\n",
              "\n",
              "    .dataframe tbody tr th {\n",
              "        vertical-align: top;\n",
              "    }\n",
              "\n",
              "    .dataframe thead th {\n",
              "        text-align: right;\n",
              "    }\n",
              "</style>\n",
              "<table border=\"1\" class=\"dataframe\">\n",
              "  <thead>\n",
              "    <tr style=\"text-align: right;\">\n",
              "      <th></th>\n",
              "      <th>CBSA Office</th>\n",
              "      <th>Location</th>\n",
              "      <th>Updated</th>\n",
              "      <th>Commercial Flow</th>\n",
              "      <th>Travellers Flow</th>\n",
              "    </tr>\n",
              "  </thead>\n",
              "  <tbody>\n",
              "    <tr>\n",
              "      <th>369413</th>\n",
              "      <td>Queenston-Lewiston Bridge</td>\n",
              "      <td>Queenston, ON</td>\n",
              "      <td>2014-04-04 13:06 EDT</td>\n",
              "      <td>No Delay</td>\n",
              "      <td>No Delay</td>\n",
              "    </tr>\n",
              "    <tr>\n",
              "      <th>369414</th>\n",
              "      <td>Queenston-Lewiston Bridge</td>\n",
              "      <td>Queenston, ON</td>\n",
              "      <td>2014-04-04 12:05 EDT</td>\n",
              "      <td>No Delay</td>\n",
              "      <td>No Delay</td>\n",
              "    </tr>\n",
              "    <tr>\n",
              "      <th>369415</th>\n",
              "      <td>Queenston-Lewiston Bridge</td>\n",
              "      <td>Queenston, ON</td>\n",
              "      <td>2014-04-04 11:09 EDT</td>\n",
              "      <td>No Delay</td>\n",
              "      <td>No Delay</td>\n",
              "    </tr>\n",
              "    <tr>\n",
              "      <th>369416</th>\n",
              "      <td>Queenston-Lewiston Bridge</td>\n",
              "      <td>Queenston, ON</td>\n",
              "      <td>2014-04-04 11:07 EDT</td>\n",
              "      <td>No Delay</td>\n",
              "      <td>No Delay</td>\n",
              "    </tr>\n",
              "    <tr>\n",
              "      <th>369417</th>\n",
              "      <td>Queenston-Lewiston Bridge</td>\n",
              "      <td>Queenston, ON</td>\n",
              "      <td>2014-04-04 11:07 EDT</td>\n",
              "      <td>No Delay</td>\n",
              "      <td>No Delay</td>\n",
              "    </tr>\n",
              "  </tbody>\n",
              "</table>\n",
              "</div>"
            ],
            "text/plain": [
              "                      CBSA Office       Location               Updated  \\\n",
              "369413  Queenston-Lewiston Bridge  Queenston, ON  2014-04-04 13:06 EDT   \n",
              "369414  Queenston-Lewiston Bridge  Queenston, ON  2014-04-04 12:05 EDT   \n",
              "369415  Queenston-Lewiston Bridge  Queenston, ON  2014-04-04 11:09 EDT   \n",
              "369416  Queenston-Lewiston Bridge  Queenston, ON  2014-04-04 11:07 EDT   \n",
              "369417  Queenston-Lewiston Bridge  Queenston, ON  2014-04-04 11:07 EDT   \n",
              "\n",
              "       Commercial Flow Travellers Flow  \n",
              "369413        No Delay        No Delay  \n",
              "369414        No Delay        No Delay  \n",
              "369415        No Delay        No Delay  \n",
              "369416        No Delay        No Delay  \n",
              "369417        No Delay        No Delay  "
            ]
          },
          "execution_count": 129,
          "metadata": {},
          "output_type": "execute_result"
        }
      ],
      "source": [
        "# We only want data from Lewiston Bridge crossing for now\n",
        "indexFiltered = df[df['CBSA Office'] != \"Queenston-Lewiston Bridge\"].index\n",
        "df.drop(indexFiltered, axis =0,  inplace=True)\n",
        "print(df.shape) # Shape before filtering\n",
        "df.head()"
      ]
    },
    {
      "cell_type": "code",
      "execution_count": null,
      "id": "c62126ac",
      "metadata": {
        "id": "c62126ac",
        "outputId": "d313707c-fe3f-493b-f9fc-d79d2849d661"
      },
      "outputs": [
        {
          "name": "stdout",
          "output_type": "stream",
          "text": [
            "(44234, 5)\n",
            "(44234, 5)\n",
            "(44222, 5)\n"
          ]
        },
        {
          "data": {
            "text/html": [
              "<div>\n",
              "<style scoped>\n",
              "    .dataframe tbody tr th:only-of-type {\n",
              "        vertical-align: middle;\n",
              "    }\n",
              "\n",
              "    .dataframe tbody tr th {\n",
              "        vertical-align: top;\n",
              "    }\n",
              "\n",
              "    .dataframe thead th {\n",
              "        text-align: right;\n",
              "    }\n",
              "</style>\n",
              "<table border=\"1\" class=\"dataframe\">\n",
              "  <thead>\n",
              "    <tr style=\"text-align: right;\">\n",
              "      <th></th>\n",
              "      <th>CBSA Office</th>\n",
              "      <th>Location</th>\n",
              "      <th>Updated</th>\n",
              "      <th>Commercial Flow</th>\n",
              "      <th>Travellers Flow</th>\n",
              "    </tr>\n",
              "  </thead>\n",
              "  <tbody>\n",
              "    <tr>\n",
              "      <th>369413</th>\n",
              "      <td>Queenston-Lewiston Bridge</td>\n",
              "      <td>Queenston, ON</td>\n",
              "      <td>2014-04-04 13:06:00-04:00</td>\n",
              "      <td>No Delay</td>\n",
              "      <td>0</td>\n",
              "    </tr>\n",
              "    <tr>\n",
              "      <th>369414</th>\n",
              "      <td>Queenston-Lewiston Bridge</td>\n",
              "      <td>Queenston, ON</td>\n",
              "      <td>2014-04-04 12:05:00-04:00</td>\n",
              "      <td>No Delay</td>\n",
              "      <td>0</td>\n",
              "    </tr>\n",
              "    <tr>\n",
              "      <th>369415</th>\n",
              "      <td>Queenston-Lewiston Bridge</td>\n",
              "      <td>Queenston, ON</td>\n",
              "      <td>2014-04-04 11:09:00-04:00</td>\n",
              "      <td>No Delay</td>\n",
              "      <td>0</td>\n",
              "    </tr>\n",
              "    <tr>\n",
              "      <th>369416</th>\n",
              "      <td>Queenston-Lewiston Bridge</td>\n",
              "      <td>Queenston, ON</td>\n",
              "      <td>2014-04-04 11:07:00-04:00</td>\n",
              "      <td>No Delay</td>\n",
              "      <td>0</td>\n",
              "    </tr>\n",
              "    <tr>\n",
              "      <th>369417</th>\n",
              "      <td>Queenston-Lewiston Bridge</td>\n",
              "      <td>Queenston, ON</td>\n",
              "      <td>2014-04-04 11:07:00-04:00</td>\n",
              "      <td>No Delay</td>\n",
              "      <td>0</td>\n",
              "    </tr>\n",
              "  </tbody>\n",
              "</table>\n",
              "</div>"
            ],
            "text/plain": [
              "                      CBSA Office       Location                   Updated  \\\n",
              "369413  Queenston-Lewiston Bridge  Queenston, ON 2014-04-04 13:06:00-04:00   \n",
              "369414  Queenston-Lewiston Bridge  Queenston, ON 2014-04-04 12:05:00-04:00   \n",
              "369415  Queenston-Lewiston Bridge  Queenston, ON 2014-04-04 11:09:00-04:00   \n",
              "369416  Queenston-Lewiston Bridge  Queenston, ON 2014-04-04 11:07:00-04:00   \n",
              "369417  Queenston-Lewiston Bridge  Queenston, ON 2014-04-04 11:07:00-04:00   \n",
              "\n",
              "       Commercial Flow Travellers Flow  \n",
              "369413        No Delay               0  \n",
              "369414        No Delay               0  \n",
              "369415        No Delay               0  \n",
              "369416        No Delay               0  \n",
              "369417        No Delay               0  "
            ]
          },
          "execution_count": 130,
          "metadata": {},
          "output_type": "execute_result"
        }
      ],
      "source": [
        "print(df.shape) # Shape before filtering\n",
        "\n",
        "from dateutil import parser\n",
        "# Datetime cleanup; Make Date field a Pandas date field with UTC time as standard \n",
        "# Maybe there is a more efficient method, but works for now - but takes a while to process...\n",
        "tzmapping = {'ADT': dateutil.tz.gettz('Canada/Atlantic'),\n",
        "            'CDT': dateutil.tz.gettz('US/Central'),\n",
        "            'MDT': dateutil.tz.gettz('America/Denver'),\n",
        "            'PDT': dateutil.tz.gettz('US/Pacific')}\n",
        "df['Updated'] = df['Updated'].apply(parser.parse, tzinfos=tzmapping)\n",
        "\n",
        "# Create a copy of the df for Logistic regression where we drop the no delay and other irrelevant cases\n",
        "df1 = df.copy(deep=True) # let's do a deep copy to not interfere in results\n",
        "indexFiltered = df1[(df['Travellers Flow'] == \"Not Applicable\") | \n",
        "        (df['Travellers Flow'] == \"Closed\")].index\n",
        "df1.drop(indexFiltered, axis =0,  inplace=True)\n",
        "            \n",
        "df1.loc[(df['Travellers Flow'] == \"No Delay\"), 'Travellers Flow'] = 0\n",
        "# df1.loc[df['Travellers Flow'] == \"Delay\", 'Travellers Flow'] = 1\n",
        "\n",
        "# Change values for the text values on the Travellers flow columns\n",
        "df.loc[(df['Travellers Flow'] == \"No Delay\") |\n",
        "        (df['Travellers Flow'] == \"Not Applicable\") | \n",
        "        (df['Travellers Flow'] == \"Closed\"), 'Travellers Flow'] = 0\n",
        "\n",
        "# Check if it is clean: returns nothing is good!\n",
        "df.loc[(df['Travellers Flow'] == \"No Delay\") |\n",
        "        (df['Travellers Flow'] == \"Not Applicable\") | \n",
        "        (df['Travellers Flow'] == \"Closed\")]\n",
        "\n",
        "# df after cleanup to check\n",
        "print(df.shape) # Shape before filtering\n",
        "print(df1.shape) # Shape before filtering\n",
        "\n",
        "# df['Updated'] = pd.to_datetime(df['Updated'], utc=True)\n",
        "df.head()\n",
        "\n",
        "\n",
        "# We have 2 dfs for the different regression analysis we want to do\n",
        "# For OLS - df and for Logistic - df1\n"
      ]
    },
    {
      "cell_type": "code",
      "execution_count": null,
      "id": "8de3e9b5",
      "metadata": {
        "id": "8de3e9b5",
        "outputId": "26064dc0-ab9e-40bb-c1c6-67d80a73ca4a"
      },
      "outputs": [
        {
          "data": {
            "text/html": [
              "<div>\n",
              "<style scoped>\n",
              "    .dataframe tbody tr th:only-of-type {\n",
              "        vertical-align: middle;\n",
              "    }\n",
              "\n",
              "    .dataframe tbody tr th {\n",
              "        vertical-align: top;\n",
              "    }\n",
              "\n",
              "    .dataframe thead th {\n",
              "        text-align: right;\n",
              "    }\n",
              "</style>\n",
              "<table border=\"1\" class=\"dataframe\">\n",
              "  <thead>\n",
              "    <tr style=\"text-align: right;\">\n",
              "      <th></th>\n",
              "      <th>CBSA Office</th>\n",
              "      <th>Location</th>\n",
              "      <th>Updated</th>\n",
              "      <th>Commercial Flow</th>\n",
              "      <th>Travellers Flow</th>\n",
              "      <th>Date</th>\n",
              "      <th>IsWeekend</th>\n",
              "    </tr>\n",
              "  </thead>\n",
              "  <tbody>\n",
              "    <tr>\n",
              "      <th>369413</th>\n",
              "      <td>Queenston-Lewiston Bridge</td>\n",
              "      <td>Queenston, ON</td>\n",
              "      <td>2014-04-04 13:06:00-04:00</td>\n",
              "      <td>No Delay</td>\n",
              "      <td>0</td>\n",
              "      <td>2014-04-04</td>\n",
              "      <td>False</td>\n",
              "    </tr>\n",
              "    <tr>\n",
              "      <th>369414</th>\n",
              "      <td>Queenston-Lewiston Bridge</td>\n",
              "      <td>Queenston, ON</td>\n",
              "      <td>2014-04-04 12:05:00-04:00</td>\n",
              "      <td>No Delay</td>\n",
              "      <td>0</td>\n",
              "      <td>2014-04-04</td>\n",
              "      <td>False</td>\n",
              "    </tr>\n",
              "    <tr>\n",
              "      <th>369415</th>\n",
              "      <td>Queenston-Lewiston Bridge</td>\n",
              "      <td>Queenston, ON</td>\n",
              "      <td>2014-04-04 11:09:00-04:00</td>\n",
              "      <td>No Delay</td>\n",
              "      <td>0</td>\n",
              "      <td>2014-04-04</td>\n",
              "      <td>False</td>\n",
              "    </tr>\n",
              "    <tr>\n",
              "      <th>369416</th>\n",
              "      <td>Queenston-Lewiston Bridge</td>\n",
              "      <td>Queenston, ON</td>\n",
              "      <td>2014-04-04 11:07:00-04:00</td>\n",
              "      <td>No Delay</td>\n",
              "      <td>0</td>\n",
              "      <td>2014-04-04</td>\n",
              "      <td>False</td>\n",
              "    </tr>\n",
              "    <tr>\n",
              "      <th>369417</th>\n",
              "      <td>Queenston-Lewiston Bridge</td>\n",
              "      <td>Queenston, ON</td>\n",
              "      <td>2014-04-04 11:07:00-04:00</td>\n",
              "      <td>No Delay</td>\n",
              "      <td>0</td>\n",
              "      <td>2014-04-04</td>\n",
              "      <td>False</td>\n",
              "    </tr>\n",
              "  </tbody>\n",
              "</table>\n",
              "</div>"
            ],
            "text/plain": [
              "                      CBSA Office       Location                   Updated  \\\n",
              "369413  Queenston-Lewiston Bridge  Queenston, ON 2014-04-04 13:06:00-04:00   \n",
              "369414  Queenston-Lewiston Bridge  Queenston, ON 2014-04-04 12:05:00-04:00   \n",
              "369415  Queenston-Lewiston Bridge  Queenston, ON 2014-04-04 11:09:00-04:00   \n",
              "369416  Queenston-Lewiston Bridge  Queenston, ON 2014-04-04 11:07:00-04:00   \n",
              "369417  Queenston-Lewiston Bridge  Queenston, ON 2014-04-04 11:07:00-04:00   \n",
              "\n",
              "       Commercial Flow Travellers Flow        Date  IsWeekend  \n",
              "369413        No Delay               0  2014-04-04      False  \n",
              "369414        No Delay               0  2014-04-04      False  \n",
              "369415        No Delay               0  2014-04-04      False  \n",
              "369416        No Delay               0  2014-04-04      False  \n",
              "369417        No Delay               0  2014-04-04      False  "
            ]
          },
          "execution_count": 131,
          "metadata": {},
          "output_type": "execute_result"
        }
      ],
      "source": [
        "# Add date column to both dfs\n",
        "df['Date'] = pd.to_datetime(df['Updated']).dt.date\n",
        "df1['Date'] = pd.to_datetime(df1['Updated']).dt.date\n",
        "\n",
        "# Add Weekday vs weekend check \n",
        "df[\"IsWeekend\"] = pd.to_datetime(df[\"Date\"]).dt.weekday >= 5\n",
        "df1[\"IsWeekend\"] = pd.to_datetime(df1[\"Date\"]).dt.weekday >= 5\n",
        "\n",
        "df1.head()"
      ]
    },
    {
      "cell_type": "code",
      "execution_count": null,
      "id": "a33ec06a",
      "metadata": {
        "id": "a33ec06a"
      },
      "outputs": [],
      "source": [
        "# To check if we have weekend true vs false:\n",
        "# df.loc[(df['IsWeekend'] == False)] # no output needed"
      ]
    },
    {
      "cell_type": "code",
      "execution_count": null,
      "id": "24fa71b5",
      "metadata": {
        "id": "24fa71b5",
        "outputId": "2aac16ba-8edd-43b0-e338-5d18fad94057"
      },
      "outputs": [
        {
          "data": {
            "text/html": [
              "<div>\n",
              "<style scoped>\n",
              "    .dataframe tbody tr th:only-of-type {\n",
              "        vertical-align: middle;\n",
              "    }\n",
              "\n",
              "    .dataframe tbody tr th {\n",
              "        vertical-align: top;\n",
              "    }\n",
              "\n",
              "    .dataframe thead th {\n",
              "        text-align: right;\n",
              "    }\n",
              "</style>\n",
              "<table border=\"1\" class=\"dataframe\">\n",
              "  <thead>\n",
              "    <tr style=\"text-align: right;\">\n",
              "      <th></th>\n",
              "      <th>CBSA Office</th>\n",
              "      <th>Location</th>\n",
              "      <th>Updated</th>\n",
              "      <th>Commercial Flow</th>\n",
              "      <th>Travellers Flow</th>\n",
              "      <th>Date</th>\n",
              "      <th>IsWeekend</th>\n",
              "      <th>isHoliday</th>\n",
              "    </tr>\n",
              "  </thead>\n",
              "  <tbody>\n",
              "    <tr>\n",
              "      <th>369413</th>\n",
              "      <td>Queenston-Lewiston Bridge</td>\n",
              "      <td>Queenston, ON</td>\n",
              "      <td>2014-04-04 13:06:00-04:00</td>\n",
              "      <td>No Delay</td>\n",
              "      <td>0</td>\n",
              "      <td>2014-04-04</td>\n",
              "      <td>False</td>\n",
              "      <td>False</td>\n",
              "    </tr>\n",
              "    <tr>\n",
              "      <th>369414</th>\n",
              "      <td>Queenston-Lewiston Bridge</td>\n",
              "      <td>Queenston, ON</td>\n",
              "      <td>2014-04-04 12:05:00-04:00</td>\n",
              "      <td>No Delay</td>\n",
              "      <td>0</td>\n",
              "      <td>2014-04-04</td>\n",
              "      <td>False</td>\n",
              "      <td>False</td>\n",
              "    </tr>\n",
              "    <tr>\n",
              "      <th>369415</th>\n",
              "      <td>Queenston-Lewiston Bridge</td>\n",
              "      <td>Queenston, ON</td>\n",
              "      <td>2014-04-04 11:09:00-04:00</td>\n",
              "      <td>No Delay</td>\n",
              "      <td>0</td>\n",
              "      <td>2014-04-04</td>\n",
              "      <td>False</td>\n",
              "      <td>False</td>\n",
              "    </tr>\n",
              "    <tr>\n",
              "      <th>369416</th>\n",
              "      <td>Queenston-Lewiston Bridge</td>\n",
              "      <td>Queenston, ON</td>\n",
              "      <td>2014-04-04 11:07:00-04:00</td>\n",
              "      <td>No Delay</td>\n",
              "      <td>0</td>\n",
              "      <td>2014-04-04</td>\n",
              "      <td>False</td>\n",
              "      <td>False</td>\n",
              "    </tr>\n",
              "    <tr>\n",
              "      <th>369417</th>\n",
              "      <td>Queenston-Lewiston Bridge</td>\n",
              "      <td>Queenston, ON</td>\n",
              "      <td>2014-04-04 11:07:00-04:00</td>\n",
              "      <td>No Delay</td>\n",
              "      <td>0</td>\n",
              "      <td>2014-04-04</td>\n",
              "      <td>False</td>\n",
              "      <td>False</td>\n",
              "    </tr>\n",
              "  </tbody>\n",
              "</table>\n",
              "</div>"
            ],
            "text/plain": [
              "                      CBSA Office       Location                   Updated  \\\n",
              "369413  Queenston-Lewiston Bridge  Queenston, ON 2014-04-04 13:06:00-04:00   \n",
              "369414  Queenston-Lewiston Bridge  Queenston, ON 2014-04-04 12:05:00-04:00   \n",
              "369415  Queenston-Lewiston Bridge  Queenston, ON 2014-04-04 11:09:00-04:00   \n",
              "369416  Queenston-Lewiston Bridge  Queenston, ON 2014-04-04 11:07:00-04:00   \n",
              "369417  Queenston-Lewiston Bridge  Queenston, ON 2014-04-04 11:07:00-04:00   \n",
              "\n",
              "       Commercial Flow Travellers Flow       Date  IsWeekend  isHoliday  \n",
              "369413        No Delay               0 2014-04-04      False      False  \n",
              "369414        No Delay               0 2014-04-04      False      False  \n",
              "369415        No Delay               0 2014-04-04      False      False  \n",
              "369416        No Delay               0 2014-04-04      False      False  \n",
              "369417        No Delay               0 2014-04-04      False      False  "
            ]
          },
          "execution_count": 136,
          "metadata": {},
          "output_type": "execute_result"
        }
      ],
      "source": [
        "# Let's add a column for CANADA Bank holiday checks\n",
        "\n",
        "# from pandas.tseries.holiday import USFederalHolidayCalendar as calendar\n",
        "import holidays\n",
        "\n",
        "cal = calendar()\n",
        "df['Date'] = pd.to_datetime(df['Date']).dt.normalize()\n",
        "\n",
        "canada_holidays = holidays.Canada()\n",
        "\n",
        "holidays = cal.holidays(df['Date'].min(), df['Date'].max())\n",
        "\n",
        "# df.dtypes\n",
        "df['isHoliday'] = df['Date'].isin(canada_holidays)\n",
        "df.head()"
      ]
    },
    {
      "cell_type": "code",
      "execution_count": null,
      "id": "9586f29f",
      "metadata": {
        "id": "9586f29f"
      },
      "outputs": [],
      "source": [
        "# To check if we have public holiday true vs false:\n",
        "# df.loc[(df['isHoliday'] == True)]"
      ]
    },
    {
      "cell_type": "markdown",
      "id": "54932048",
      "metadata": {
        "id": "54932048"
      },
      "source": [
        "# OLS Regression:"
      ]
    },
    {
      "cell_type": "code",
      "execution_count": null,
      "id": "2899ca51",
      "metadata": {
        "id": "2899ca51"
      },
      "outputs": [],
      "source": []
    },
    {
      "cell_type": "code",
      "execution_count": null,
      "id": "581b2269",
      "metadata": {
        "id": "581b2269"
      },
      "outputs": [],
      "source": []
    },
    {
      "cell_type": "code",
      "execution_count": null,
      "id": "5abfca72",
      "metadata": {
        "id": "5abfca72"
      },
      "outputs": [],
      "source": []
    },
    {
      "cell_type": "markdown",
      "id": "1a15bf70",
      "metadata": {
        "id": "1a15bf70"
      },
      "source": [
        "# Logistic regression:"
      ]
    },
    {
      "cell_type": "code",
      "execution_count": null,
      "id": "2045c57e",
      "metadata": {
        "id": "2045c57e"
      },
      "outputs": [],
      "source": []
    },
    {
      "cell_type": "markdown",
      "id": "e6534f68",
      "metadata": {
        "id": "e6534f68"
      },
      "source": [
        "# Additional Data Analysis"
      ]
    },
    {
      "cell_type": "code",
      "execution_count": null,
      "id": "2a05477c",
      "metadata": {
        "id": "2a05477c"
      },
      "outputs": [],
      "source": []
    },
    {
      "cell_type": "markdown",
      "id": "55971e98",
      "metadata": {
        "id": "55971e98"
      },
      "source": [
        "# Conclusions"
      ]
    },
    {
      "cell_type": "code",
      "execution_count": null,
      "id": "51d6bdae",
      "metadata": {
        "id": "51d6bdae"
      },
      "outputs": [],
      "source": []
    }
  ],
  "metadata": {
    "kernelspec": {
      "display_name": "Python 3 (ipykernel)",
      "language": "python",
      "name": "python3"
    },
    "language_info": {
      "codemirror_mode": {
        "name": "ipython",
        "version": 3
      },
      "file_extension": ".py",
      "mimetype": "text/x-python",
      "name": "python",
      "nbconvert_exporter": "python",
      "pygments_lexer": "ipython3",
      "version": "3.9.12"
    },
    "colab": {
      "provenance": []
    }
  },
  "nbformat": 4,
  "nbformat_minor": 5
}